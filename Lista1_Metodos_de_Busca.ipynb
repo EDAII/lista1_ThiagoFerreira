{
 "cells": [
  {
   "cell_type": "markdown",
   "metadata": {},
   "source": [
    "# Caso de teste 1: Busca em array desordenado com 1000000 valores"
   ]
  },
  {
   "cell_type": "code",
   "execution_count": 65,
   "metadata": {},
   "outputs": [
    {
     "name": "stdout",
     "output_type": "stream",
     "text": [
      "Caso de teste 1\n",
      "Tamanho do array: 1000000\n"
     ]
    }
   ],
   "source": [
    "import numpy as np\n",
    "import time\n",
    "\n",
    "caso1 = np.arange(1, 1000001, dtype = int)\n",
    "np.random.shuffle(caso1)\n",
    "print(\"Caso de teste 1\")\n",
    "print(\"Tamanho do array: \" + str(caso1.size))"
   ]
  },
  {
   "cell_type": "code",
   "execution_count": 73,
   "metadata": {},
   "outputs": [
    {
     "name": "stdout",
     "output_type": "stream",
     "text": [
      "no caso de teste 1\n",
      "o valor 35 foi encotrado na posicao 483517\n"
     ]
    },
    {
     "ename": "NameError",
     "evalue": "name 'segundos' is not defined",
     "output_type": "error",
     "traceback": [
      "\u001b[0;31m---------------------------------------------------------------------------\u001b[0m",
      "\u001b[0;31mNameError\u001b[0m                                 Traceback (most recent call last)",
      "\u001b[0;32m<ipython-input-73-8fb0a9e696b6>\u001b[0m in \u001b[0;36m<module>\u001b[0;34m\u001b[0m\n\u001b[1;32m     13\u001b[0m \u001b[0;34m\u001b[0m\u001b[0m\n\u001b[1;32m     14\u001b[0m \u001b[0mtempoDeExecucao\u001b[0m \u001b[0;34m=\u001b[0m \u001b[0mround\u001b[0m\u001b[0;34m(\u001b[0m\u001b[0mfimLinearSearch\u001b[0m \u001b[0;34m-\u001b[0m \u001b[0minicioLinearSearch\u001b[0m\u001b[0;34m,\u001b[0m\u001b[0;36m4\u001b[0m\u001b[0;34m)\u001b[0m\u001b[0;34m\u001b[0m\u001b[0;34m\u001b[0m\u001b[0m\n\u001b[0;32m---> 15\u001b[0;31m \u001b[0mprint\u001b[0m\u001b[0;34m(\u001b[0m\u001b[0;34m\"O tempo de execucao foi de: \"\u001b[0m \u001b[0;34m+\u001b[0m \u001b[0mstr\u001b[0m\u001b[0;34m(\u001b[0m\u001b[0mtempoDeExecucao\u001b[0m\u001b[0;34m)\u001b[0m \u001b[0;34m+\u001b[0m \u001b[0msegundos\u001b[0m\u001b[0;34m)\u001b[0m\u001b[0;34m\u001b[0m\u001b[0;34m\u001b[0m\u001b[0m\n\u001b[0m\u001b[1;32m     16\u001b[0m \u001b[0;34m\u001b[0m\u001b[0m\n\u001b[1;32m     17\u001b[0m \u001b[0;34m\u001b[0m\u001b[0m\n",
      "\u001b[0;31mNameError\u001b[0m: name 'segundos' is not defined"
     ]
    }
   ],
   "source": [
    "def linearSearch(casoDeTeste, valores, valorDeProcura):\n",
    "    contador = 0\n",
    "    for valor in valores:\n",
    "        contador += 1\n",
    "        if(valor == valorDeProcura):\n",
    "            print(\"no caso de teste \" + str(casoDeTeste) + \"\\no valor \" + \n",
    "                  str(valor) + \" foi encotrado na posicao \" + str(contador))\n",
    "\n",
    "\n",
    "inicioLinearSearch = time.time()\n",
    "linearSearch(1, caso1, 35)\n",
    "fimLinearSearch = time.time()\n",
    "\n",
    "tempoDeExecucao = round(fimLinearSearch - inicioLinearSearch,4)\n",
    "print(\"O tempo de execucao foi de: \" + str(tempoDeExecucao) + segundos)\n",
    "\n",
    "\n"
   ]
  },
  {
   "cell_type": "code",
   "execution_count": 59,
   "metadata": {},
   "outputs": [],
   "source": [
    "#BUSCA SEQUENCIAL INDEXADA - LUCAS"
   ]
  },
  {
   "cell_type": "code",
   "execution_count": 60,
   "metadata": {},
   "outputs": [],
   "source": [
    "#BUSCA SEQUENCIAL DUPLAMENTE INDEXADA - LUCAS"
   ]
  },
  {
   "cell_type": "code",
   "execution_count": 61,
   "metadata": {},
   "outputs": [],
   "source": [
    "#BUSCA BINÁRIA - THIAGO"
   ]
  },
  {
   "cell_type": "code",
   "execution_count": 62,
   "metadata": {},
   "outputs": [],
   "source": [
    "## BUSCA BINÁRIA POR INTERPOLAÇÃO - THIAGO"
   ]
  },
  {
   "cell_type": "code",
   "execution_count": 22,
   "metadata": {},
   "outputs": [],
   "source": [
    "#BUSCA EM ÁRVORES (AVL) - LUCAS"
   ]
  },
  {
   "cell_type": "code",
   "execution_count": 7,
   "metadata": {},
   "outputs": [],
   "source": [
    "#BUSCA MULTIDIRECIONAL - LUCAS"
   ]
  },
  {
   "cell_type": "code",
   "execution_count": null,
   "metadata": {},
   "outputs": [],
   "source": []
  }
 ],
 "metadata": {
  "kernelspec": {
   "display_name": "Python 3",
   "language": "python",
   "name": "python3"
  },
  "language_info": {
   "codemirror_mode": {
    "name": "ipython",
    "version": 3
   },
   "file_extension": ".py",
   "mimetype": "text/x-python",
   "name": "python",
   "nbconvert_exporter": "python",
   "pygments_lexer": "ipython3",
   "version": "3.6.7"
  }
 },
 "nbformat": 4,
 "nbformat_minor": 2
}
