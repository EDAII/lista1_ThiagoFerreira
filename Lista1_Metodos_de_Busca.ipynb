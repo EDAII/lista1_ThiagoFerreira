{
 "cells": [
  {
   "cell_type": "code",
   "execution_count": 4,
   "metadata": {},
   "outputs": [
    {
     "data": {
      "application/json": {
       "cell": {
        "!": "OSMagics",
        "HTML": "Other",
        "SVG": "Other",
        "bash": "Other",
        "capture": "ExecutionMagics",
        "debug": "ExecutionMagics",
        "file": "Other",
        "html": "DisplayMagics",
        "javascript": "DisplayMagics",
        "js": "DisplayMagics",
        "latex": "DisplayMagics",
        "markdown": "DisplayMagics",
        "perl": "Other",
        "prun": "ExecutionMagics",
        "pypy": "Other",
        "python": "Other",
        "python2": "Other",
        "python3": "Other",
        "ruby": "Other",
        "script": "ScriptMagics",
        "sh": "Other",
        "svg": "DisplayMagics",
        "sx": "OSMagics",
        "system": "OSMagics",
        "time": "ExecutionMagics",
        "timeit": "ExecutionMagics",
        "writefile": "OSMagics"
       },
       "line": {
        "alias": "OSMagics",
        "alias_magic": "BasicMagics",
        "autoawait": "AsyncMagics",
        "autocall": "AutoMagics",
        "automagic": "AutoMagics",
        "autosave": "KernelMagics",
        "bookmark": "OSMagics",
        "cat": "Other",
        "cd": "OSMagics",
        "clear": "KernelMagics",
        "colors": "BasicMagics",
        "conda": "PackagingMagics",
        "config": "ConfigMagics",
        "connect_info": "KernelMagics",
        "cp": "Other",
        "debug": "ExecutionMagics",
        "dhist": "OSMagics",
        "dirs": "OSMagics",
        "doctest_mode": "BasicMagics",
        "ed": "Other",
        "edit": "KernelMagics",
        "env": "OSMagics",
        "gui": "BasicMagics",
        "hist": "Other",
        "history": "HistoryMagics",
        "killbgscripts": "ScriptMagics",
        "ldir": "Other",
        "less": "KernelMagics",
        "lf": "Other",
        "lk": "Other",
        "ll": "Other",
        "load": "CodeMagics",
        "load_ext": "ExtensionMagics",
        "loadpy": "CodeMagics",
        "logoff": "LoggingMagics",
        "logon": "LoggingMagics",
        "logstart": "LoggingMagics",
        "logstate": "LoggingMagics",
        "logstop": "LoggingMagics",
        "ls": "Other",
        "lsmagic": "BasicMagics",
        "lx": "Other",
        "macro": "ExecutionMagics",
        "magic": "BasicMagics",
        "man": "KernelMagics",
        "matplotlib": "PylabMagics",
        "mkdir": "Other",
        "more": "KernelMagics",
        "mv": "Other",
        "notebook": "BasicMagics",
        "page": "BasicMagics",
        "pastebin": "CodeMagics",
        "pdb": "ExecutionMagics",
        "pdef": "NamespaceMagics",
        "pdoc": "NamespaceMagics",
        "pfile": "NamespaceMagics",
        "pinfo": "NamespaceMagics",
        "pinfo2": "NamespaceMagics",
        "pip": "PackagingMagics",
        "popd": "OSMagics",
        "pprint": "BasicMagics",
        "precision": "BasicMagics",
        "prun": "ExecutionMagics",
        "psearch": "NamespaceMagics",
        "psource": "NamespaceMagics",
        "pushd": "OSMagics",
        "pwd": "OSMagics",
        "pycat": "OSMagics",
        "pylab": "PylabMagics",
        "qtconsole": "KernelMagics",
        "quickref": "BasicMagics",
        "recall": "HistoryMagics",
        "rehashx": "OSMagics",
        "reload_ext": "ExtensionMagics",
        "rep": "Other",
        "rerun": "HistoryMagics",
        "reset": "NamespaceMagics",
        "reset_selective": "NamespaceMagics",
        "rm": "Other",
        "rmdir": "Other",
        "run": "ExecutionMagics",
        "save": "CodeMagics",
        "sc": "OSMagics",
        "set_env": "OSMagics",
        "store": "StoreMagics",
        "sx": "OSMagics",
        "system": "OSMagics",
        "tb": "ExecutionMagics",
        "time": "ExecutionMagics",
        "timeit": "ExecutionMagics",
        "unalias": "OSMagics",
        "unload_ext": "ExtensionMagics",
        "who": "NamespaceMagics",
        "who_ls": "NamespaceMagics",
        "whos": "NamespaceMagics",
        "xdel": "NamespaceMagics",
        "xmode": "BasicMagics"
       }
      },
      "text/plain": [
       "Available line magics:\n",
       "%alias  %alias_magic  %autoawait  %autocall  %automagic  %autosave  %bookmark  %cat  %cd  %clear  %colors  %conda  %config  %connect_info  %cp  %debug  %dhist  %dirs  %doctest_mode  %ed  %edit  %env  %gui  %hist  %history  %killbgscripts  %ldir  %less  %lf  %lk  %ll  %load  %load_ext  %loadpy  %logoff  %logon  %logstart  %logstate  %logstop  %ls  %lsmagic  %lx  %macro  %magic  %man  %matplotlib  %mkdir  %more  %mv  %notebook  %page  %pastebin  %pdb  %pdef  %pdoc  %pfile  %pinfo  %pinfo2  %pip  %popd  %pprint  %precision  %prun  %psearch  %psource  %pushd  %pwd  %pycat  %pylab  %qtconsole  %quickref  %recall  %rehashx  %reload_ext  %rep  %rerun  %reset  %reset_selective  %rm  %rmdir  %run  %save  %sc  %set_env  %store  %sx  %system  %tb  %time  %timeit  %unalias  %unload_ext  %who  %who_ls  %whos  %xdel  %xmode\n",
       "\n",
       "Available cell magics:\n",
       "%%!  %%HTML  %%SVG  %%bash  %%capture  %%debug  %%file  %%html  %%javascript  %%js  %%latex  %%markdown  %%perl  %%prun  %%pypy  %%python  %%python2  %%python3  %%ruby  %%script  %%sh  %%svg  %%sx  %%system  %%time  %%timeit  %%writefile\n",
       "\n",
       "Automagic is ON, % prefix IS NOT needed for line magics."
      ]
     },
     "execution_count": 4,
     "metadata": {},
     "output_type": "execute_result"
    }
   ],
   "source": [
    "%lsmagic"
   ]
  },
  {
   "cell_type": "code",
   "execution_count": 4,
   "metadata": {},
   "outputs": [
    {
     "data": {
      "application/javascript": [
       "\n",
       "var a = 1;\n",
       "var b = 2;\n",
       "var c = a + b;\n",
       "element.text(c);\n"
      ],
      "text/plain": [
       "<IPython.core.display.Javascript object>"
      ]
     },
     "metadata": {},
     "output_type": "display_data"
    }
   ],
   "source": [
    "%%js\n",
    "\n",
    "var a = 1;\n",
    "var b = 2;\n",
    "var c = a + b;\n",
    "element.text(c);"
   ]
  },
  {
   "cell_type": "code",
   "execution_count": 124,
   "metadata": {},
   "outputs": [
    {
     "data": {
      "application/javascript": [
       "\n",
       "//Busca sequencial comum\n",
       "//obtained from https://stackoverflow.com/questions/5836833/create-a-array-with-random-values-in-javascript\n",
       "\n",
       "function generate(array) {\n",
       "  var tmp, current, top = array.length;\n",
       "  if(top) while(--top) {\n",
       "    current = Math.floor(Math.random() * (top + 1));\n",
       "    tmp = array[current];\n",
       "    array[current] = array[top];\n",
       "    array[top] = tmp;\n",
       "  }\n",
       "    console.log(array)\n",
       "    console.log(array)\n",
       "  return array;\n",
       "}\n",
       "\n",
       "function linearSearch(lista,valor){\n",
       "  for (let index=0;index<lista.length;index++ ){\n",
       "      if(lista[index]===valor){\n",
       "          return index;\n",
       "      }\n",
       "  }\n",
       "  return -1;\n",
       "}\n",
       "\n",
       "var arranjo = [1,2,3,4,5,6,7,8,9,10,11,12,13,14];\n",
       "arranjo = generate(arranjo);\n",
       "console.log(arranjo);\n",
       "element.text(\"Arranjo: \" + arranjo);\n",
       "\n",
       "\n",
       "var timeStart = performance.now();\n",
       "\n",
       "let result = linearSearch(arranjo,5);\n",
       "\n",
       "var timeEnd = performance.now();\n",
       "\n",
       "var totalTime  = timeEnd - timeStart;\n",
       "\n",
       "element.text(\"time start: \" + timeStart+\n",
       "             \" time end \" + timeEnd + \" tempo de execucao: \" + totalTime + \" ms\");\n",
       "\n",
       "\n",
       "\n",
       "\n",
       "\n",
       "\n"
      ],
      "text/plain": [
       "<IPython.core.display.Javascript object>"
      ]
     },
     "metadata": {},
     "output_type": "display_data"
    }
   ],
   "source": [
    "%%js\n",
    "\n",
    "//Busca sequencial comum\n",
    "//obtained from https://stackoverflow.com/questions/5836833/create-a-array-with-random-values-in-javascript\n",
    "\n",
    "function generate(array) {\n",
    "  var tmp, current, top = array.length;\n",
    "  if(top) while(--top) {\n",
    "    current = Math.floor(Math.random() * (top + 1));\n",
    "    tmp = array[current];\n",
    "    array[current] = array[top];\n",
    "    array[top] = tmp;\n",
    "  }\n",
    "    console.log(array)\n",
    "    console.log(array)\n",
    "  return array;\n",
    "}\n",
    "\n",
    "function linearSearch(lista,valor){\n",
    "  for (let index=0;index<lista.length;index++ ){\n",
    "      if(lista[index]===valor){\n",
    "          return index;\n",
    "      }\n",
    "  }\n",
    "  return -1;\n",
    "}\n",
    "\n",
    "var arranjo = [1,2,3,4,5,6,7,8,9,10,11,12,13,14];\n",
    "arranjo = generate(arranjo);\n",
    "console.log(arranjo);\n",
    "element.text(\"Arranjo: \" + arranjo);\n",
    "\n",
    "\n",
    "var timeStart = performance.now();\n",
    "\n",
    "\n",
    "\n",
    "var timeEnd = performance.now();\n",
    "\n",
    "var totalTime  = timeEnd - timeStart;\n",
    "\n",
    "element.text(\"time start: \" + timeStart+\n",
    "             \" time end \" + timeEnd + \" tempo de execucao: \" + totalTime + \" ms\");\n",
    "\n",
    "\n",
    "\n",
    "\n",
    "\n",
    "\n"
   ]
  },
  {
   "cell_type": "code",
   "execution_count": 81,
   "metadata": {},
   "outputs": [],
   "source": [
    "#BUSCA SEQUENCIAL INDEXADA - LUCAS"
   ]
  },
  {
   "cell_type": "code",
   "execution_count": 3,
   "metadata": {},
   "outputs": [],
   "source": [
    "#BUSCA SEQUENCIAL DUPLAMENTE INDEXADA - LUCAS"
   ]
  },
  {
   "cell_type": "code",
   "execution_count": 64,
   "metadata": {},
   "outputs": [
    {
     "data": {
      "application/javascript": [
       "\n",
       "\n",
       "\n",
       "\n",
       "function generate(array) {\n",
       "  var tmp, current, top = array.length;\n",
       "  if(top) while(--top) {\n",
       "    current = Math.floor(Math.random() * (top + 1));\n",
       "    tmp = array[current];\n",
       "    array[current] = array[top];\n",
       "    array[top] = tmp;\n",
       "  }\n",
       "    console.log(array)\n",
       "    console.log(array)\n",
       "  return array;\n",
       "}\n",
       "\n",
       "function linearSearch(lista,valor){\n",
       "  for (let index=0;index<lista.length;index++ ){\n",
       "      if(lista[index]===valor){\n",
       "          return index;\n",
       "      }\n",
       "  }\n",
       "  return -1;\n",
       "}\n",
       "\n",
       "var arranjo = [1,2,3,4,5,6,7,8,9,10,11,12,13,14];\n",
       "arranjo = generate(arranjo);\n",
       "console.log(arranjo);\n",
       "console.time('Linear Search');\n",
       "let result = linearSearch(arranjo,5);\n",
       "console.timeEnd('Linear Search');\n",
       "console.log(result);\n",
       "\n",
       "\n",
       "\n"
      ],
      "text/plain": [
       "<IPython.core.display.Javascript object>"
      ]
     },
     "metadata": {},
     "output_type": "display_data"
    }
   ],
   "source": [
    "#BUSCA BINÁRIA - THIAGO"
   ]
  },
  {
   "cell_type": "code",
   "execution_count": 62,
   "metadata": {},
   "outputs": [
    {
     "ename": "SyntaxError",
     "evalue": "invalid syntax (<ipython-input-62-eaf7d917d8ea>, line 2)",
     "output_type": "error",
     "traceback": [
      "\u001b[0;36m  File \u001b[0;32m\"<ipython-input-62-eaf7d917d8ea>\"\u001b[0;36m, line \u001b[0;32m2\u001b[0m\n\u001b[0;31m    let result = linearSearch(a, 5)\u001b[0m\n\u001b[0m             ^\u001b[0m\n\u001b[0;31mSyntaxError\u001b[0m\u001b[0;31m:\u001b[0m invalid syntax\n"
     ]
    }
   ],
   "source": [
    "## BUSCA BINÁRIA POR INTERPOLAÇÃO - THIAGO"
   ]
  },
  {
   "cell_type": "code",
   "execution_count": 22,
   "metadata": {},
   "outputs": [],
   "source": [
    "#BUSCA EM ÁRVORES (AVL) - LUCAS"
   ]
  },
  {
   "cell_type": "code",
   "execution_count": 7,
   "metadata": {},
   "outputs": [],
   "source": [
    "#BUSCA MULTIDIRECIONAL - LUCAS"
   ]
  },
  {
   "cell_type": "code",
   "execution_count": null,
   "metadata": {},
   "outputs": [],
   "source": []
  }
 ],
 "metadata": {
  "kernelspec": {
   "display_name": "Python 3",
   "language": "python",
   "name": "python3"
  },
  "language_info": {
   "codemirror_mode": {
    "name": "ipython",
    "version": 3
   },
   "file_extension": ".py",
   "mimetype": "text/x-python",
   "name": "python",
   "nbconvert_exporter": "python",
   "pygments_lexer": "ipython3",
   "version": "3.6.7"
  }
 },
 "nbformat": 4,
 "nbformat_minor": 2
}
