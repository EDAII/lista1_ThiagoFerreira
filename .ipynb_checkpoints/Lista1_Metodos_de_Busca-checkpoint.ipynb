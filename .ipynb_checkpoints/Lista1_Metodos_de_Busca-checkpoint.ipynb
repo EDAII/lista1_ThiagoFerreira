{
 "cells": [
  {
   "cell_type": "markdown",
   "metadata": {},
   "source": [
    "# Caso de teste 1: Busca em array desordenado com 1000000 valores"
   ]
  },
  {
   "cell_type": "code",
   "execution_count": 127,
   "metadata": {},
   "outputs": [
    {
     "name": "stdout",
     "output_type": "stream",
     "text": [
      "Caso de teste 1\n",
      "Tamanho do array: 1000000\n"
     ]
    }
   ],
   "source": [
    "import numpy as np\n",
    "import time\n",
    "\n",
    "caso1 = np.arange(1, 1000001, dtype = int)\n",
    "np.random.shuffle(caso1)\n",
    "print(\"Caso de teste 1\")\n",
    "print(\"Tamanho do array: \" + str(caso1.size))"
   ]
  },
  {
   "cell_type": "code",
   "execution_count": 86,
   "metadata": {},
   "outputs": [
    {
     "name": "stdout",
     "output_type": "stream",
     "text": [
      "no caso de teste 1\n",
      "o valor 35 foi encotrado na posicao 357905\n",
      "O tempo de execucao foi de: 0.443 segundos\n"
     ]
    }
   ],
   "source": [
    "#BUSCA SEQUENCIAL COMUM - THIAGO\n",
    "\n",
    "def linearSearch(casoDeTeste, valores, valorDeProcura):\n",
    "    contador = 0\n",
    "    for valor in valores:\n",
    "        contador += 1\n",
    "        if(valor == valorDeProcura):\n",
    "            print(\"no caso de teste \" + str(casoDeTeste) + \"\\no valor \" + \n",
    "                  str(valor) + \" foi encotrado na posicao \" + str(contador))\n",
    "\n",
    "\n",
    "inicioLinearSearch = time.time()\n",
    "linearSearch(1, caso1, 35)\n",
    "fimLinearSearch = time.time()\n",
    "\n",
    "tempoDeExecucao = round(fimLinearSearch - inicioLinearSearch,4)\n",
    "print(\"O tempo de execucao foi de: \" + str(tempoDeExecucao) + \" segundos\")\n",
    "\n",
    "\n"
   ]
  },
  {
   "cell_type": "code",
   "execution_count": 131,
   "metadata": {},
   "outputs": [
    {
     "name": "stdout",
     "output_type": "stream",
     "text": [
      "[[100000, 100001], [200000, 200001], [300000, 300001], [400000, 400001], [500000, 500001], [600000, 600001], [700000, 700001], [800000, 800001], [900000, 900001]]\n"
     ]
    }
   ],
   "source": [
    "#BUSCA SEQUENCIAL INDEXADA - LUCAS\n",
    "\n",
    "\n",
    "#criando tabela de indices\n",
    "def createIndexTable(valores, rangeDeValores):\n",
    "    indexTable = []\n",
    "\n",
    "    for valor in range(rangeDeValores, valores.size, rangeDeValores):\n",
    "        indexTable.append([valor,valores[valor]])\n",
    "    \n",
    "    print(indexTable)\n",
    "\n",
    "def indexedLinearSearch(casoDeTeste, indices, valores, valorDeProcura):\n",
    "    #Para este tipo de busca o vetor deve ser ordenado\n",
    "    valores = np.sort(caso1)\n",
    "    \n",
    "    \n",
    "#indexedLinearSearch(1,1,caso1)\n",
    "valoress = np.sort(caso1)\n",
    "createIndexTable(valoress, 100000)"
   ]
  },
  {
   "cell_type": "code",
   "execution_count": 60,
   "metadata": {},
   "outputs": [],
   "source": [
    "#BUSCA SEQUENCIAL DUPLAMENTE INDEXADA - LUCAS"
   ]
  },
  {
   "cell_type": "code",
   "execution_count": 61,
   "metadata": {},
   "outputs": [],
   "source": [
    "#BUSCA BINÁRIA - THIAGO"
   ]
  },
  {
   "cell_type": "code",
   "execution_count": 62,
   "metadata": {},
   "outputs": [],
   "source": [
    "## BUSCA BINÁRIA POR INTERPOLAÇÃO - THIAGO"
   ]
  },
  {
   "cell_type": "code",
   "execution_count": 22,
   "metadata": {},
   "outputs": [],
   "source": [
    "#BUSCA EM ÁRVORES (AVL) - LUCAS"
   ]
  },
  {
   "cell_type": "code",
   "execution_count": 7,
   "metadata": {},
   "outputs": [],
   "source": [
    "#BUSCA MULTIDIRECIONAL - LUCAS"
   ]
  },
  {
   "cell_type": "code",
   "execution_count": null,
   "metadata": {},
   "outputs": [],
   "source": []
  }
 ],
 "metadata": {
  "kernelspec": {
   "display_name": "Python 3",
   "language": "python",
   "name": "python3"
  },
  "language_info": {
   "codemirror_mode": {
    "name": "ipython",
    "version": 3
   },
   "file_extension": ".py",
   "mimetype": "text/x-python",
   "name": "python",
   "nbconvert_exporter": "python",
   "pygments_lexer": "ipython3",
   "version": "3.6.7"
  }
 },
 "nbformat": 4,
 "nbformat_minor": 2
}
