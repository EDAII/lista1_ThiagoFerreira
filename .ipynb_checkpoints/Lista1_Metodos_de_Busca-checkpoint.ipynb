{
 "cells": [
  {
   "cell_type": "markdown",
   "metadata": {},
   "source": [
    "# Caso de teste 1: Busca em array ordenado com 1000000 valores"
   ]
  },
  {
   "cell_type": "code",
   "execution_count": 132,
   "metadata": {},
   "outputs": [
    {
     "name": "stdout",
     "output_type": "stream",
     "text": [
      "Caso de teste 1\n",
      "Tamanho do array: 1000000\n",
      "Valor de procura: 942919\n"
     ]
    }
   ],
   "source": [
    "import numpy as np\n",
    "import time\n",
    "import random\n",
    "\n",
    "caso1 = np.arange(1, 1000001, dtype = int)\n",
    "caso1ValorDeProcura = 942919\n",
    "\n",
    "print(\"Caso de teste 1\")\n",
    "print(\"Tamanho do array: \" + str(caso1.size))\n",
    "print(\"Valor de procura: \" + str(caso1ValorDeProcura))"
   ]
  },
  {
   "cell_type": "markdown",
   "metadata": {},
   "source": [
    "# Caso de teste 2: Busca em array desordenado com 100000 valores aleatórios"
   ]
  },
  {
   "cell_type": "code",
   "execution_count": 135,
   "metadata": {},
   "outputs": [
    {
     "name": "stdout",
     "output_type": "stream",
     "text": [
      "Caso de teste 2\n",
      "Tamanho do array: 100000\n",
      "Valor de procura: 43221\n"
     ]
    }
   ],
   "source": [
    "caso2 = random.sample(range(0,100001), 100000)\n",
    "caso2ValorDeProcura = 43221\n",
    "\n",
    "print(\"Caso de teste 2\")\n",
    "print(\"Tamanho do array: \" + str(len(caso2)))\n",
    "print(\"Valor de procura: \" + str(caso2ValorDeProcura))"
   ]
  },
  {
   "cell_type": "code",
   "execution_count": 136,
   "metadata": {},
   "outputs": [
    {
     "name": "stdout",
     "output_type": "stream",
     "text": [
      "Caso de teste: 1\n",
      "Procurando valor: 43221\n",
      "O valor 43221 foi encotrado!\n",
      "O tempo de execucao foi de: 0.0138 segundos\n"
     ]
    }
   ],
   "source": [
    "#BUSCA SEQUENCIAL COMUM - THIAGO\n",
    "\n",
    "def linearSearch(casoDeTeste, valores, valorDeProcura):\n",
    "    \n",
    "    print(\"Caso de teste: \" +str(casoDeTeste))\n",
    "    print(\"Procurando valor: \" +str(valorDeProcura))\n",
    "    \n",
    "    valorEncontrado = False\n",
    "    \n",
    "    contador = 0\n",
    "    for valor in valores:\n",
    "        contador += 1\n",
    "        if(valor == valorDeProcura):\n",
    "            print(\"O valor \" + str(valor) + \" foi encotrado!\")\n",
    "            valorEncontrado = True\n",
    "        \n",
    "    if(valorEncontrado == False):\n",
    "        print(\"O valor \" + str(valorDeProcura) + \" nao foi encotrado!\")\n",
    "\n",
    "inicioLinearSearch = time.time()\n",
    "linearSearch(1, caso1, 800002)\n",
    "fimLinearSearch = time.time()\n",
    "\n",
    "tempoDeExecucao = round(fimLinearSearch - inicioLinearSearch,4)\n",
    "print(\"O tempo de execucao foi de: \" + str(tempoDeExecucao) + \" segundos\")\n",
    "\n",
    "\n"
   ]
  },
  {
   "cell_type": "code",
   "execution_count": 137,
   "metadata": {},
   "outputs": [
    {
     "name": "stdout",
     "output_type": "stream",
     "text": [
      "Caso de teste: 1\n",
      "Procurando valor: 43221\n",
      "1000\n",
      "2000\n",
      "3000\n",
      "4000\n",
      "5000\n",
      "6000\n",
      "7000\n",
      "8000\n",
      "9000\n",
      "10000\n",
      "11000\n",
      "12000\n",
      "13000\n",
      "14000\n",
      "15000\n",
      "16000\n",
      "17000\n",
      "18000\n",
      "19000\n",
      "20000\n",
      "21000\n",
      "22000\n",
      "23000\n",
      "24000\n",
      "25000\n",
      "26000\n",
      "27000\n",
      "28000\n",
      "29000\n",
      "30000\n",
      "31000\n",
      "32000\n",
      "33000\n",
      "34000\n",
      "35000\n",
      "36000\n",
      "37000\n",
      "38000\n",
      "39000\n",
      "40000\n",
      "41000\n",
      "42000\n",
      "43000\n",
      "44000\n",
      "45000\n",
      "46000\n",
      "47000\n",
      "48000\n",
      "49000\n",
      "50000\n",
      "51000\n",
      "52000\n",
      "53000\n",
      "54000\n",
      "55000\n",
      "56000\n",
      "57000\n",
      "58000\n",
      "59000\n",
      "60000\n",
      "61000\n",
      "62000\n",
      "63000\n",
      "64000\n",
      "65000\n",
      "66000\n",
      "67000\n",
      "68000\n",
      "69000\n",
      "70000\n",
      "71000\n",
      "72000\n",
      "73000\n",
      "74000\n",
      "75000\n",
      "76000\n",
      "77000\n",
      "78000\n",
      "79000\n",
      "80000\n",
      "81000\n",
      "82000\n",
      "83000\n",
      "84000\n",
      "85000\n",
      "86000\n",
      "87000\n",
      "88000\n",
      "89000\n",
      "90000\n",
      "91000\n",
      "92000\n",
      "93000\n",
      "94000\n",
      "95000\n",
      "96000\n",
      "97000\n",
      "98000\n",
      "99000\n",
      "43000\n",
      "O valor foi encontrado!\n",
      "Index: 43000\n",
      "Valor na posicao: 43221\n",
      "O tempo de execucao foi de: 0.0321 segundos\n"
     ]
    }
   ],
   "source": [
    "#BUSCA SEQUENCIAL INDEXADA - LUCAS\n",
    "\n",
    "\n",
    "#criando tabela de indices\n",
    "def createIndexTable(valores, rangeDeValores):\n",
    "    indexTable = []\n",
    "\n",
    "    #formando a tabela de index de acordo com a quantidade de valores do array e o intervalo definido\n",
    "    for posicao in range(rangeDeValores, valores.size, rangeDeValores):\n",
    "        indexTable.append([posicao,valores[posicao]])\n",
    "    return indexTable\n",
    "\n",
    "\n",
    "#localizando pelo indice\n",
    "def indexSearch(indices, valorDeProcura):\n",
    "    \n",
    "    auxiliarIndex = 0\n",
    "\n",
    "    for indice in indices:\n",
    "        #comparando valor de procura com o valor da chave\n",
    "        if valorDeProcura >= indice[1]:\n",
    "            #recebendo posicao do indice mais proximo ao valor desejado\n",
    "            auxiliarIndex = indice[0]\n",
    "    \n",
    "    return auxiliarIndex\n",
    "        \n",
    "        \n",
    "\n",
    "#funcao de busca\n",
    "def indexedLinearSearch(casoDeTeste, indices, valores, valorDeProcura):\n",
    "    \n",
    "    print(\"Caso de teste: \" +str(casoDeTeste))\n",
    "    print(\"Procurando valor: \" +str(valorDeProcura))\n",
    "    \n",
    "    \n",
    "    index = indexSearch(indices, valorDeProcura)\n",
    "    print(index)\n",
    "    \n",
    "    valorEncontrado = False\n",
    "    \n",
    "    \n",
    "    for posicao in range(index,valores.size):\n",
    "        \n",
    "        if valores[posicao] == valorDeProcura:\n",
    "            print(\"O valor foi encontrado!\")\n",
    "            print(\"Index: \" + str(index))\n",
    "            print(\"Valor na posicao: \" + str(valores[posicao]))\n",
    "            valorEncontrado = True\n",
    "\n",
    "    if(valorEncontrado == False):\n",
    "        print(\"O valor foi encontrado!\")\n",
    "\n",
    "#gerando tabela de indices\n",
    "casoOrdenado = np.sort(caso1)\n",
    "indices = createIndexTable(casoOrdenado,100000)\n",
    "#print(indices)\n",
    "inicioIndexed = time.time()\n",
    "indexedLinearSearch(1,indices,casoOrdenado,900002)\n",
    "fimIndexed = time.time()\n",
    "\n",
    "tempoDeExecucao = round(fimIndexed - inicioIndexed,4)\n",
    "print(\"O tempo de execucao foi de: \" + str(tempoDeExecucao) + \" segundos\")"
   ]
  },
  {
   "cell_type": "code",
   "execution_count": 60,
   "metadata": {},
   "outputs": [],
   "source": [
    "#BUSCA SEQUENCIAL DUPLAMENTE INDEXADA - LUCAS"
   ]
  },
  {
   "cell_type": "code",
   "execution_count": 61,
   "metadata": {},
   "outputs": [],
   "source": [
    "#BUSCA BINÁRIA - THIAGO"
   ]
  },
  {
   "cell_type": "code",
   "execution_count": 62,
   "metadata": {},
   "outputs": [],
   "source": [
    "## BUSCA BINÁRIA POR INTERPOLAÇÃO - THIAGO"
   ]
  },
  {
   "cell_type": "code",
   "execution_count": 22,
   "metadata": {},
   "outputs": [],
   "source": [
    "#BUSCA EM ÁRVORES (AVL) - LUCAS"
   ]
  },
  {
   "cell_type": "code",
   "execution_count": 7,
   "metadata": {},
   "outputs": [],
   "source": [
    "#BUSCA MULTIDIRECIONAL - LUCAS"
   ]
  },
  {
   "cell_type": "code",
   "execution_count": null,
   "metadata": {},
   "outputs": [],
   "source": []
  }
 ],
 "metadata": {
  "kernelspec": {
   "display_name": "Python 3",
   "language": "python",
   "name": "python3"
  },
  "language_info": {
   "codemirror_mode": {
    "name": "ipython",
    "version": 3
   },
   "file_extension": ".py",
   "mimetype": "text/x-python",
   "name": "python",
   "nbconvert_exporter": "python",
   "pygments_lexer": "ipython3",
   "version": "3.6.7"
  }
 },
 "nbformat": 4,
 "nbformat_minor": 2
}
