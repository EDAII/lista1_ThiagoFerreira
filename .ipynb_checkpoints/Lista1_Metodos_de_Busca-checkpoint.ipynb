{
 "cells": [
  {
   "cell_type": "markdown",
   "metadata": {},
   "source": [
    "## Lista 1 de EDA 2\n",
    "Alunos: \n",
    "Thiago Ferreira 15/0149948\n",
    "Lucas Soares "
   ]
  },
  {
   "cell_type": "markdown",
   "metadata": {},
   "source": [
    "# Caso de teste 1: Busca em array ordenado com 1000000 valores"
   ]
  },
  {
   "cell_type": "code",
   "execution_count": 3,
   "metadata": {},
   "outputs": [
    {
     "name": "stdout",
     "output_type": "stream",
     "text": [
      "Caso de teste 1\n",
      "Tamanho do array: 1000000\n",
      "Valor de procura: 942919\n"
     ]
    }
   ],
   "source": [
    "import numpy as np\n",
    "import time\n",
    "import random\n",
    "\n",
    "caso1 = np.arange(1, 1000001, dtype = int)\n",
    "caso1ValorDeProcura = 942919\n",
    "\n",
    "print(\"Caso de teste 1\")\n",
    "print(\"Tamanho do array: \" + str(caso1.size))\n",
    "print(\"Valor de procura: \" + str(caso1ValorDeProcura))"
   ]
  },
  {
   "cell_type": "markdown",
   "metadata": {},
   "source": [
    "# Caso de teste 2: Busca em array desordenado com 100000 valores aleatórios"
   ]
  },
  {
   "cell_type": "code",
   "execution_count": 4,
   "metadata": {},
   "outputs": [
    {
     "name": "stdout",
     "output_type": "stream",
     "text": [
      "Caso de teste 2\n",
      "Tamanho do array: 1000000\n",
      "Valor de procura: 603221\n"
     ]
    }
   ],
   "source": [
    "caso2 = random.sample(range(0,1000001), 1000000)\n",
    "caso2ValorDeProcura = 603221\n",
    "\n",
    "print(\"Caso de teste 2\")\n",
    "print(\"Tamanho do array: \" + str(len(caso2)))\n",
    "print(\"Valor de procura: \" + str(caso2ValorDeProcura))"
   ]
  },
  {
   "cell_type": "markdown",
   "metadata": {},
   "source": [
    "# Caso de teste 3: Busca em array ordenado com 2500 valores"
   ]
  },
  {
   "cell_type": "code",
   "execution_count": 5,
   "metadata": {},
   "outputs": [
    {
     "name": "stdout",
     "output_type": "stream",
     "text": [
      "Caso de teste 3\n",
      "Tamanho do array: 2500\n",
      "Valor de procura: 1342\n"
     ]
    }
   ],
   "source": [
    "caso3 = np.arange(1, 2501, dtype = int)\n",
    "caso3ValorDeProcura = 1342\n",
    "\n",
    "print(\"Caso de teste 3\")\n",
    "print(\"Tamanho do array: \" + str(caso3.size))\n",
    "print(\"Valor de procura: \" + str(caso3ValorDeProcura))"
   ]
  },
  {
   "cell_type": "markdown",
   "metadata": {},
   "source": [
    "# Caso de teste 4: Busca em array desordenado com 2500 valores"
   ]
  },
  {
   "cell_type": "code",
   "execution_count": 6,
   "metadata": {},
   "outputs": [
    {
     "name": "stdout",
     "output_type": "stream",
     "text": [
      "Caso de teste 4\n",
      "Tamanho do array: 2500\n",
      "Valor de procura: 1342\n"
     ]
    }
   ],
   "source": [
    "caso4 = random.sample(range(1,2501), 2500)\n",
    "caso4ValorDeProcura = 1342\n",
    "\n",
    "print(\"Caso de teste 4\")\n",
    "print(\"Tamanho do array: \" + str(len(caso4)))\n",
    "print(\"Valor de procura: \" + str(caso4ValorDeProcura))"
   ]
  },
  {
   "cell_type": "markdown",
   "metadata": {},
   "source": [
    "# Código de busca sequencial"
   ]
  },
  {
   "cell_type": "code",
   "execution_count": 7,
   "metadata": {},
   "outputs": [],
   "source": [
    "#BUSCA SEQUENCIAL COMUM - THIAGO\n",
    "\n",
    "def linearSearch(valores, valorDeProcura):\n",
    "    \n",
    "    print(\"Procurando valor: \" +str(valorDeProcura))\n",
    "    \n",
    "    valorEncontrado = False\n",
    "    \n",
    "    contador = 0\n",
    "    for valor in valores:\n",
    "        contador += 1\n",
    "        if(valor == valorDeProcura):\n",
    "            print(\"O valor \" + str(valor) + \" foi encotrado!\")\n",
    "            valorEncontrado = True\n",
    "        \n",
    "    if(valorEncontrado == False):\n",
    "        print(\"O valor \" + str(valorDeProcura) + \" nao foi encotrado!\")\n",
    "\n",
    "# inicioLinearSearch = time.time()\n",
    "# linearSearch(1, caso1, 800002)\n",
    "# fimLinearSearch = time.time()\n",
    "\n",
    "# tempoDeExecucao = round(fimLinearSearch - inicioLinearSearch,4)\n",
    "# print(\"O tempo de execucao foi de: \" + str(tempoDeExecucao) + \" segundos\")\n",
    "\n",
    "\n"
   ]
  },
  {
   "cell_type": "markdown",
   "metadata": {},
   "source": [
    "# Código de busca sequencial indexada"
   ]
  },
  {
   "cell_type": "code",
   "execution_count": 8,
   "metadata": {},
   "outputs": [],
   "source": [
    "#BUSCA SEQUENCIAL INDEXADA - LUCAS\n",
    "\n",
    "\n",
    "#criando tabela de indices\n",
    "def createIndexTable(valores, rangeDeValores):\n",
    "    indexTable = []\n",
    "\n",
    "    #formando a tabela de index de acordo com a quantidade de valores do array e o intervalo definido\n",
    "    for posicao in range(rangeDeValores, valores.size, rangeDeValores):\n",
    "        indexTable.append([posicao,valores[posicao]])\n",
    "    return indexTable\n",
    "\n",
    "\n",
    "#localizando pelo indice\n",
    "def indexSearch(indices, valorDeProcura):\n",
    "    \n",
    "    auxiliarIndex = 0\n",
    "\n",
    "    for indice in indices:\n",
    "        #comparando valor de procura com o valor da chave\n",
    "        if valorDeProcura >= indice[1]:\n",
    "            #recebendo posicao do indice mais proximo ao valor desejado\n",
    "            auxiliarIndex = indice[0]\n",
    "    \n",
    "    return auxiliarIndex\n",
    "        \n",
    "        \n",
    "\n",
    "#funcao de busca\n",
    "def indexedLinearSearch(indices, valores, valorDeProcura):\n",
    "    \n",
    "    print(\"Procurando valor: \" +str(valorDeProcura))\n",
    "    \n",
    "    \n",
    "    index = indexSearch(indices, valorDeProcura)\n",
    "    \n",
    "    valorEncontrado = False\n",
    "    \n",
    "    \n",
    "    for posicao in range(index,valores.size):\n",
    "        \n",
    "        if valores[posicao] == valorDeProcura:\n",
    "            print(\"O valor foi encontrado!\")\n",
    "            print(\"Index: \" + str(index))\n",
    "            print(\"Valor na posicao: \" + str(valores[posicao]))\n",
    "            valorEncontrado = True\n",
    "\n",
    "    if(valorEncontrado == False):\n",
    "        print(\"O valor foi encontrado!\")\n",
    "\n",
    "# #gerando tabela de indices\n",
    "# casoOrdenado = np.sort(caso1)\n",
    "# indices = createIndexTable(casoOrdenado,100000)\n",
    "# #print(indices)\n",
    "# inicioIndexed = time.time()\n",
    "# indexedLinearSearch(1,indices,casoOrdenado,900002)\n",
    "# fimIndexed = time.time()\n",
    "\n",
    "# tempoDeExecucao = round(fimIndexed - inicioIndexed,4)\n",
    "# print(\"O tempo de execucao foi de: \" + str(tempoDeExecucao) + \" segundos\")"
   ]
  },
  {
   "cell_type": "markdown",
   "metadata": {},
   "source": [
    "# Código de busca binária"
   ]
  },
  {
   "cell_type": "code",
   "execution_count": 9,
   "metadata": {},
   "outputs": [],
   "source": [
    "#BUSCA BINÁRIA - THIAGO\n",
    "\n",
    "def binarySearch(casoDeTeste, valorDeProcura): \n",
    "    lim_inf = 0\n",
    "    lim_sup = (len(casoDeTeste) - 1)\n",
    "    \n",
    "    while lim_inf <= lim_sup: \n",
    "        meio = int(lim_inf + (lim_sup - lim_inf)/2) \n",
    "        \n",
    "        if casoDeTeste[meio] == valorDeProcura: \n",
    "            return meio \n",
    "        \n",
    "        elif casoDeTeste[meio] < valorDeProcura: \n",
    "            lim_inf = meio + 1\n",
    "        \n",
    "        else: \n",
    "            lim_sup = meio - 1\n",
    "            \n",
    "    return -1\n",
    "  "
   ]
  },
  {
   "cell_type": "markdown",
   "metadata": {},
   "source": [
    "# Código de busca por interpolação"
   ]
  },
  {
   "cell_type": "code",
   "execution_count": 10,
   "metadata": {},
   "outputs": [],
   "source": [
    "## BUSCA POR INTERPOLAÇÃO - THIAGO\n",
    "\n",
    "def interpolationSearch(casoDeTeste, valorDeProcura):  \n",
    "    lim_inf = 0\n",
    "    lim_sup = (len(casoDeTeste) - 1)\n",
    "    \n",
    "    while lim_inf <= lim_sup and valorDeProcura >= casoDeTeste[lim_inf] and valorDeProcura <= casoDeTeste[lim_sup]:\n",
    "        index = lim_inf + int(((float(lim_sup - lim_inf) / ( casoDeTeste[lim_sup] - casoDeTeste[lim_inf])) * ( valorDeProcura - casoDeTeste[lim_inf])))\n",
    "        \n",
    "        if casoDeTeste[index] == valorDeProcura:\n",
    "            return index\n",
    "        \n",
    "        if casoDeTeste[index] < valorDeProcura:\n",
    "            lim_inf = index + 1;\n",
    "        \n",
    "        else:\n",
    "            lim_sup = index - 1;\n",
    "            \n",
    "    return -1"
   ]
  },
  {
   "cell_type": "markdown",
   "metadata": {},
   "source": [
    "# Código de busca em arvore"
   ]
  },
  {
   "cell_type": "code",
   "execution_count": 11,
   "metadata": {},
   "outputs": [],
   "source": [
    "#BUSCA EM ÁRVORES\n",
    "\n",
    "#CÓDIGO ENCONTRADO EM: https://wiki.python.org.br/ArvoreDeBuscaBinaria\n",
    "#Acesso em: 28/03/2019\n",
    "\n",
    "from random import randint\n",
    "# BSTree.py\n",
    "\n",
    "class BSTree:\n",
    "        \"\"\"\n",
    "        Author: Danillo Souza\n",
    "        Email: danillo012@gmail.com\n",
    "        \"\"\"\n",
    "        \n",
    "        #\n",
    "        # Constructor\n",
    "        #\n",
    "\n",
    "        def __init__(self, content=None):\n",
    "                \"\"\"\n",
    "                Initialize the tree with a valid value(can't be None).\n",
    "                \"\"\"\n",
    "                if not content:\n",
    "                        self.content = 0\n",
    "                else:\n",
    "                        self.content = content\n",
    "                \n",
    "                self.lnode = None\n",
    "                self.rnode = None\n",
    "\n",
    "        #\n",
    "        # Operators Overloading\n",
    "        #\n",
    "\n",
    "        def __str__(self):\n",
    "                return str(self.content)\n",
    "        \n",
    "        \n",
    "        def __add__(self, x):\n",
    "                if type(x) is not type(self):\n",
    "                        return (self.content + x)\n",
    "                else: \n",
    "                        return (self.content + x.content)                                       \n",
    "\n",
    "                        \n",
    "        def __sub__(self, x):\n",
    "                if type(x) is not type(self):\n",
    "                        return (self.content - x)\n",
    "                else:\n",
    "                        return (self.content - x.content)                                       \n",
    "\n",
    "                        \n",
    "        def __mul__(self, x):\n",
    "                if type(x) is not type(self):\n",
    "                        return (self.content * x)\n",
    "                else:\n",
    "                        return (self.content * x.content)                                       \n",
    "\n",
    "                        \n",
    "        def __div__(self, x):\n",
    "                if type(x) is not type(self):\n",
    "                        return (self.content / x)\n",
    "                else:\n",
    "                        return (self.content / x.content)                               \n",
    "\n",
    "        #\n",
    "        # Methods\n",
    "        #\n",
    "\n",
    "        def add(self, content=None):\n",
    "                \"\"\"\n",
    "                Add an element to the tree. In the right if the value if is bigger than the\n",
    "                actual, and in the left if its less than the actual.\n",
    "                \"\"\"\n",
    "                if not content:\n",
    "                        return -1\n",
    "\n",
    "                if content > self.content:\n",
    "                        if self.rnode:\n",
    "                                self.rnode.add(content)\n",
    "                        else:\n",
    "                                self.rnode = BSTree(content)\n",
    "\n",
    "                if content <= self.content:\n",
    "                        if self.lnode:\n",
    "                                self.lnode.add(content)\n",
    "                        else: \n",
    "                                self.lnode = BSTree(content)\n",
    "\n",
    "                                \n",
    "        def view(self, level=1):\n",
    "                \"\"\"\n",
    "                Print the tree on the screen.\n",
    "                \"\"\"\n",
    "                arrow = \"---\" * level\n",
    "                print(\"|%s>%s\" % (arrow, self.content))\n",
    "\n",
    "                if self.rnode:\n",
    "                        self.rnode.view(level+1)\n",
    "                if self.lnode:\n",
    "                        self.lnode.view(level+1)\n",
    "\n",
    "                return\n",
    "\n",
    "                \n",
    "        def size(self):\n",
    "                \"\"\"\n",
    "                Returns the size of the tree.\n",
    "                \"\"\"\n",
    "                tsize = 1\n",
    "\n",
    "                if self.rnode:\n",
    "                        tsize += self.rnode.size()\n",
    "                if self.lnode:\n",
    "                        tsize += self.lnode.size()\n",
    "\n",
    "                return tsize\n",
    "\n",
    "                \n",
    "        def min(self):\n",
    "                \"\"\"\n",
    "                Returns the minimum value of the tree.\n",
    "                \"\"\"\n",
    "                while (self.lnode):\n",
    "                        self = self.lnode\n",
    "                \n",
    "                return self.content\n",
    "\n",
    "                \n",
    "        def max(self):\n",
    "                \"\"\"\n",
    "                Returns the maximum value of the tree.\n",
    "                \"\"\"\n",
    "                while (self.rnode):\n",
    "                        self = self.rnode\n",
    "                \n",
    "                return self.content\n",
    "\n",
    "                \n",
    "        def search(self, element=None):\n",
    "                \"\"\"\n",
    "                Returns the level of the element on the tree.\n",
    "                \"\"\"\n",
    "                if not element: return -1\n",
    "\n",
    "                while (1):\n",
    "                        if not self:\n",
    "                                return -1\n",
    "                        if (not self.lnode) and (not self.rnode):\n",
    "                                return -1\n",
    "\n",
    "                        if self.content == element:\n",
    "                                return self\n",
    "                        \n",
    "                        self = (self.lnode, self.rnode)[self.content <= element]\n",
    "\n",
    "                        \n",
    "        def delete(self, element=None):\n",
    "                \"\"\"\n",
    "                Delete an element of the tree.\n",
    "                \"\"\"\n",
    "                if not element: return -1\n",
    "\n",
    "                if self.search(element):\n",
    "                        while (1):\n",
    "                                if not self:\n",
    "                                        return None\n",
    "                                if (not self.lnode) and (not self.rnode):\n",
    "                                        return None\n",
    "        \n",
    "                                if self.lnode and self.lnode.content == element:\n",
    "                                        break\n",
    "                                if self.rnode and self.rnode.content == element:\n",
    "                                        break\n",
    "                                \n",
    "                                self = (self.lnode, self.rnode)[self.content <= element]\n",
    "\n",
    "                        if self.rnode and self.rnode.content == element: \n",
    "                                del self.rnode\n",
    "                                self.rnode = 0\n",
    "                        \n",
    "                        if self.lnode and self.lnode.content == element:\n",
    "                                del self.lnode\n",
    "                                self.lnode = 0\n",
    "                        \n",
    "                        return element\n",
    "\n",
    "                        \n",
    "        def height(self):\n",
    "                \"\"\"\n",
    "                Returns the height of the tree.\n",
    "                \"\"\"\n",
    "                ltmp, rtmp = 0, 0\n",
    "                if not self:\n",
    "                        return 0\n",
    "                if self.lnode:\n",
    "                        ltmp = self.lnode.height()\n",
    "                if self.rnode:\n",
    "                        rtmp = self.rnode.height()\n",
    "                return ( 1 + max(ltmp, rtmp))\n",
    "            \n",
    "\n",
    "# tree = BSTree(50)\n",
    "# for i in range(2500):\n",
    "#         tree.add(randint(1, 100))\n",
    "\n",
    "\n",
    "# print('=' * 25)\n",
    "# print(\"Min: %d\" % tree.min())\n",
    "# print(\"Max: %d\" % tree.max())\n",
    "\n",
    "#Essa estrutura não esta aceitando uma lista muito grande de adicao (possivelmente por causa da recursao)\n",
    "#Valor aferido até 2500 elementos"
   ]
  },
  {
   "cell_type": "markdown",
   "metadata": {},
   "source": [
    "# Rodando caso de teste 1"
   ]
  },
  {
   "cell_type": "code",
   "execution_count": 48,
   "metadata": {},
   "outputs": [
    {
     "name": "stdout",
     "output_type": "stream",
     "text": [
      "========================= BUSCA SEQUENCIAL \n",
      "Procurando valor: 942919\n",
      "O valor 942919 foi encotrado!\n",
      "O tempo de execucao foi de: 0.1898 segundos\n",
      "========================= BUSCA INDEXADA \n",
      "Procurando valor: 942919\n",
      "O valor foi encontrado!\n",
      "Index: 900000\n",
      "Valor na posicao: 942919\n",
      "O tempo de execucao foi de: 0.0194 segundos\n",
      "========================= BUSCA BINARIA \n",
      "O tempo de execucao foi de: 0.00004578 segundos\n",
      "========================= BUSCA POR INTERPOLACAO \n",
      "O tempo de execucao foi de: 0.00005460 segundos\n"
     ]
    }
   ],
   "source": [
    "#array for timing storage\n",
    "time1 = []\n",
    "\n",
    "# Caso de teste 1 BUSCA SEQUENCIAL\n",
    "print(\"=\" * 25 + \" BUSCA SEQUENCIAL \")\n",
    "\n",
    "inicioLinearSearch = time.time()\n",
    "linearSearch(caso1, caso1ValorDeProcura)\n",
    "fimLinearSearch = time.time()\n",
    "\n",
    "tempoDeExecucao = round(fimLinearSearch - inicioLinearSearch,4)\n",
    "time1.append(tempoDeExecucao)\n",
    "print(\"O tempo de execucao foi de: \" + str(tempoDeExecucao) + \" segundos\")\n",
    "\n",
    "\n",
    "\n",
    "\n",
    "# Caso de teste 1 BUSCA INDEXADA\n",
    "print(\"=\" * 25 + \" BUSCA INDEXADA \")\n",
    "\n",
    "#gerando tabela de indices\n",
    "indices = createIndexTable(caso1,100000)\n",
    "#print(indices)\n",
    "inicioIndexed = time.time()\n",
    "indexedLinearSearch(indices,caso1,caso1ValorDeProcura)\n",
    "fimIndexed = time.time()\n",
    "tempoDeExecucao = round(fimIndexed - inicioIndexed,4)\n",
    "time1.append(tempoDeExecucao)\n",
    "print(\"O tempo de execucao foi de: \" + str(tempoDeExecucao) + \" segundos\")\n",
    "\n",
    "\n",
    "\n",
    "# Caso de teste 1 BUSCA BINARIA\n",
    "print(\"=\" * 25 + \" BUSCA BINARIA \")\n",
    "inicioBinary = time.time()\n",
    "binarySearch(caso1,caso1ValorDeProcura)\n",
    "fimBinary = time.time()\n",
    "tempoDeExecucao = fimBinary - inicioBinary\n",
    "time1.append(tempoDeExecucao)\n",
    "print(\"O tempo de execucao foi de: \" + \"{0:.8f}\".format(tempoDeExecucao) + \" segundos\")\n",
    "\n",
    "\n",
    "# Caso de teste 1 BUSCA BINARIA POR INTERPOLACAO\n",
    "print(\"=\" * 25 + \" BUSCA POR INTERPOLACAO \")\n",
    "inicioInterpol = time.time()\n",
    "interpolationSearch(caso1,caso1ValorDeProcura)\n",
    "fimInterpol= time.time()\n",
    "tempoDeExecucao = fimInterpol - inicioInterpol\n",
    "time1.append(tempoDeExecucao)\n",
    "print(\"O tempo de execucao foi de: \" + \"{0:.8f}\".format(tempoDeExecucao) + \" segundos\")\n"
   ]
  },
  {
   "cell_type": "markdown",
   "metadata": {},
   "source": [
    "# Rodando caso de teste 2"
   ]
  },
  {
   "cell_type": "code",
   "execution_count": 49,
   "metadata": {},
   "outputs": [
    {
     "name": "stdout",
     "output_type": "stream",
     "text": [
      "========================= BUSCA SEQUENCIAL \n",
      "Procurando valor: 603221\n",
      "O valor 603221 foi encotrado!\n",
      "O tempo de execucao foi de: 0.1776 segundos\n",
      "========================= BUSCA INDEXADA \n",
      "Procurando valor: 603221\n",
      "O valor foi encontrado!\n",
      "Index: 600000\n",
      "Valor na posicao: 603221\n",
      "O tempo de execucao ordenacao e busca foi de: 0.3935 segundos\n",
      "========================= BUSCA BINARIA \n",
      "O tempo de execucao foi de: 0.00004387 segundos\n",
      "========================= BUSCA POR INTERPOLACAO \n",
      "O tempo de execucao foi de: 0.00003266 segundos\n"
     ]
    }
   ],
   "source": [
    "#array for storing execution time\n",
    "time2= []\n",
    "\n",
    "# Caso de teste 2 BUSCA SEQUENCIAL\n",
    "print(\"=\" * 25 + \" BUSCA SEQUENCIAL \")\n",
    "\n",
    "inicioLinearSearch = time.time()\n",
    "linearSearch(caso2, caso2ValorDeProcura)\n",
    "fimLinearSearch = time.time()\n",
    "tempoDeExecucao = round(fimLinearSearch - inicioLinearSearch,4)\n",
    "time2.append(tempoDeExecucao)\n",
    "\n",
    "print(\"O tempo de execucao foi de: \" + str(tempoDeExecucao) + \" segundos\")\n",
    "\n",
    "\n",
    "\n",
    "\n",
    "# Caso de teste 2 BUSCA INDEXADA\n",
    "print(\"=\" * 25 + \" BUSCA INDEXADA \")\n",
    "\n",
    "#gerando tabela de indices\n",
    "inicioOrdenacao = time.time()\n",
    "casoOrdenado = np.sort(caso2)\n",
    "fimOrdenacao = time.time()\n",
    "indices = createIndexTable(casoOrdenado,100000)\n",
    "#print(indices)\n",
    "inicioIndexed = time.time()\n",
    "indexedLinearSearch(indices,casoOrdenado, caso2ValorDeProcura)\n",
    "fimIndexed = time.time()\n",
    "tempoDeExecucao = round(( (fimIndexed - inicioIndexed) + (fimOrdenacao - inicioOrdenacao)),4)\n",
    "time2.append(tempoDeExecucao)\n",
    "print(\"O tempo de execucao ordenacao e busca foi de: \" + str(tempoDeExecucao) + \" segundos\")\n",
    "\n",
    "\n",
    "\n",
    "# Caso de teste 2 BUSCA BINARIA\n",
    "print(\"=\" * 25 + \" BUSCA BINARIA \")\n",
    "inicioBinary = time.time()\n",
    "binarySearch(caso2,caso2ValorDeProcura)\n",
    "fimBinary = time.time()\n",
    "tempoDeExecucao = fimBinary - inicioBinary\n",
    "time2.append(tempoDeExecucao)\n",
    "print(\"O tempo de execucao foi de: \" + \"{0:.8f}\".format(tempoDeExecucao) + \" segundos\")\n",
    "\n",
    "\n",
    "\n",
    "# Caso de teste 2 BUSCA POR INTERPOLAÇÃO\n",
    "print(\"=\" * 25 + \" BUSCA POR INTERPOLACAO \")\n",
    "inicioInterpol = time.time()\n",
    "interpolationSearch(caso2,caso2ValorDeProcura)\n",
    "fimInterpol= time.time()\n",
    "tempoDeExecucao = fimInterpol - inicioInterpol\n",
    "time2.append(tempoDeExecucao)\n",
    "print(\"O tempo de execucao foi de: \" + \"{0:.8f}\".format(tempoDeExecucao) + \" segundos\")"
   ]
  },
  {
   "cell_type": "markdown",
   "metadata": {},
   "source": [
    "# Rodando caso de teste 3"
   ]
  },
  {
   "cell_type": "code",
   "execution_count": 50,
   "metadata": {},
   "outputs": [
    {
     "name": "stdout",
     "output_type": "stream",
     "text": [
      "========================= BUSCA SEQUENCIAL \n",
      "Procurando valor: 1342\n",
      "O valor 1342 foi encotrado!\n",
      "O tempo de execucao foi de: 0.00072598 segundos\n",
      "========================= BUSCA INDEXADA \n",
      "Procurando valor: 1342\n",
      "O valor foi encontrado!\n",
      "Index: 1000\n",
      "Valor na posicao: 1342\n",
      "O tempo de execucao foi de: 0.0008 segundos\n",
      "========================= BUSCA BINARIA \n",
      "O tempo de execucao foi de: 0.00005770 segundos\n",
      "========================= BUSCA POR INTERPOLACAO \n",
      "O tempo de execucao foi de: 0.00007391 segundos\n",
      "========================= BUSCA EM ARVORE \n"
     ]
    }
   ],
   "source": [
    "#array for storing execution time\n",
    "time3 = []\n",
    "# Caso de teste 3 BUSCA SEQUENCIAL\n",
    "print(\"=\" * 25 + \" BUSCA SEQUENCIAL \")\n",
    "\n",
    "inicioLinearSearch = time.time()\n",
    "linearSearch(caso3, caso3ValorDeProcura)\n",
    "fimLinearSearch = time.time()\n",
    "tempoDeExecucao = round(fimLinearSearch - inicioLinearSearch,8)\n",
    "time3.append(tempoDeExecucao)\n",
    "print(\"O tempo de execucao foi de: \" + str(tempoDeExecucao) + \" segundos\")\n",
    "\n",
    "\n",
    "\n",
    "# Caso de teste 3 BUSCA INDEXADA\n",
    "print(\"=\" * 25 + \" BUSCA INDEXADA \")\n",
    "\n",
    "#gerando tabela de indices\n",
    "indices = createIndexTable(caso3,500)\n",
    "#print(indices)\n",
    "inicioIndexed = time.time()\n",
    "indexedLinearSearch(indices,caso3,caso3ValorDeProcura)\n",
    "fimIndexed = time.time()\n",
    "tempoDeExecucao = round(fimIndexed - inicioIndexed,4)\n",
    "time3.append(tempoDeExecucao)\n",
    "print(\"O tempo de execucao foi de: \" + str(tempoDeExecucao) + \" segundos\")\n",
    "\n",
    "\n",
    "\n",
    "# Caso de teste 3 BUSCA BINARIA\n",
    "print(\"=\" * 25 + \" BUSCA BINARIA \")\n",
    "inicioBinary = time.time()\n",
    "binarySearch(caso3,caso3ValorDeProcura)\n",
    "fimBinary = time.time()\n",
    "tempoDeExecucao = fimBinary - inicioBinary\n",
    "time3.append(tempoDeExecucao)\n",
    "print(\"O tempo de execucao foi de: \" + \"{0:.8f}\".format(tempoDeExecucao) + \" segundos\")\n",
    "\n",
    "# Caso de teste 3 BUSCA POR INTERPOLAÇÃO\n",
    "print(\"=\" * 25 + \" BUSCA POR INTERPOLACAO \")\n",
    "inicioInterpol = time.time()\n",
    "interpolationSearch(caso3,caso3ValorDeProcura)\n",
    "fimInterpol= time.time()\n",
    "tempoDeExecucao = fimInterpol - inicioInterpol\n",
    "time3.append(tempoDeExecucao)\n",
    "print(\"O tempo de execucao foi de: \" + \"{0:.8f}\".format(tempoDeExecucao) + \" segundos\")\n",
    "\n",
    "# Caso de teste 3 BUSCA EM ÁRVORE\n",
    "print(\"=\" * 25 + \" BUSCA EM ARVORE \")"
   ]
  },
  {
   "cell_type": "markdown",
   "metadata": {},
   "source": [
    "# Rodando caso de teste 4"
   ]
  },
  {
   "cell_type": "code",
   "execution_count": 51,
   "metadata": {},
   "outputs": [
    {
     "name": "stdout",
     "output_type": "stream",
     "text": [
      "========================= BUSCA SEQUENCIAL \n",
      "Procurando valor: 1342\n",
      "O valor 1342 foi encotrado!\n",
      "O tempo de execucao foi de: 0.00056291 segundos\n",
      "========================= BUSCA INDEXADA \n",
      "Procurando valor: 1342\n",
      "O valor foi encontrado!\n",
      "Index: 1000\n",
      "Valor na posicao: 1342\n",
      "O tempo de execucao ordenacao e busca foi de: 0.0009 segundos\n",
      "========================= BUSCA BINARIA \n",
      "O tempo de execucao foi de: 0.00005841 segundos\n",
      "========================= BUSCA POR INTERPOLACAO \n",
      "O tempo de execucao foi de: 0.00004959 segundos\n",
      "========================= BUSCA EM ARVORE \n"
     ]
    }
   ],
   "source": [
    "#array for storing execution time\n",
    "time4 = []\n",
    "# Caso de teste 4 BUSCA SEQUENCIAL\n",
    "print(\"=\" * 25 + \" BUSCA SEQUENCIAL \")\n",
    "\n",
    "inicioLinearSearch = time.time()\n",
    "linearSearch(caso4, caso4ValorDeProcura)\n",
    "fimLinearSearch = time.time()\n",
    "tempoDeExecucao = round(fimLinearSearch - inicioLinearSearch,8)\n",
    "time4.append(tempoDeExecucao)\n",
    "print(\"O tempo de execucao foi de: \" + str(tempoDeExecucao) + \" segundos\")\n",
    "\n",
    "\n",
    "\n",
    "# Caso de teste 4 BUSCA INDEXADA\n",
    "print(\"=\" * 25 + \" BUSCA INDEXADA \")\n",
    "\n",
    "#gerando tabela de indices\n",
    "inicioOrdenacao = time.time()\n",
    "casoOrdenado = np.sort(caso4)\n",
    "fimOrdenacao = time.time()\n",
    "indices = createIndexTable(casoOrdenado,500)\n",
    "#print(indices)\n",
    "inicioIndexed = time.time()\n",
    "indexedLinearSearch(indices,casoOrdenado, caso4ValorDeProcura)\n",
    "fimIndexed = time.time()\n",
    "tempoDeExecucao = round(( (fimIndexed - inicioIndexed) + (fimOrdenacao - inicioOrdenacao)),4)\n",
    "time4.append(tempoDeExecucao)\n",
    "print(\"O tempo de execucao ordenacao e busca foi de: \" + str(tempoDeExecucao) + \" segundos\")\n",
    "\n",
    "\n",
    "\n",
    "# Caso de teste 4 BUSCA BINARIA\n",
    "print(\"=\" * 25 + \" BUSCA BINARIA \")\n",
    "inicioBinary = time.time()\n",
    "binarySearch(caso4,caso4ValorDeProcura)\n",
    "fimBinary = time.time()\n",
    "tempoDeExecucao = fimBinary - inicioBinary\n",
    "time4.append(tempoDeExecucao)\n",
    "print(\"O tempo de execucao foi de: \" + \"{0:.8f}\".format(tempoDeExecucao) + \" segundos\")\n",
    "\n",
    "# Caso de teste 4 BUSCA POR INTERPOLAÇÃO\n",
    "print(\"=\" * 25 + \" BUSCA POR INTERPOLACAO \")\n",
    "inicioInterpol = time.time()\n",
    "interpolationSearch(caso4,caso4ValorDeProcura)\n",
    "fimInterpol= time.time()\n",
    "tempoDeExecucao = fimInterpol - inicioInterpol\n",
    "time4.append(tempoDeExecucao)\n",
    "print(\"O tempo de execucao foi de: \" + \"{0:.8f}\".format(tempoDeExecucao) + \" segundos\")\n",
    "\n",
    "# Caso de teste 4 BUSCA EM ÁRVORE\n",
    "print(\"=\" * 25 + \" BUSCA EM ARVORE \")"
   ]
  },
  {
   "cell_type": "markdown",
   "metadata": {},
   "source": [
    "# Results"
   ]
  },
  {
   "cell_type": "markdown",
   "metadata": {},
   "source": [
    "## Test case 1"
   ]
  },
  {
   "cell_type": "code",
   "execution_count": 61,
   "metadata": {},
   "outputs": [
    {
     "data": {
      "text/plain": [
       "<function matplotlib.pyplot.show(*args, **kw)>"
      ]
     },
     "execution_count": 61,
     "metadata": {},
     "output_type": "execute_result"
    },
    {
     "data": {
      "image/png": "[encoded data removed]",
      "text/plain": [
       "<Figure size 432x288 with 1 Axes>"
      ]
     },
     "metadata": {
      "needs_background": "light"
     },
     "output_type": "display_data"
    }
   ],
   "source": [
    "import matplotlib.pyplot as plt\n",
    "plt.plot(time1, ['Sequencial','Indexada','Binária','Interpolação'], 'ro')\n",
    "plt.show"
   ]
  },
  {
   "cell_type": "markdown",
   "metadata": {},
   "source": [
    "## Test case 2"
   ]
  },
  {
   "cell_type": "code",
   "execution_count": 57,
   "metadata": {},
   "outputs": [
    {
     "data": {
      "text/plain": [
       "<function matplotlib.pyplot.show(*args, **kw)>"
      ]
     },
     "execution_count": 57,
     "metadata": {},
     "output_type": "execute_result"
    },
    {
     "data": {
      "image/png": "[encoded data removed]",
      "text/plain": [
       "<Figure size 432x288 with 1 Axes>"
      ]
     },
     "metadata": {
      "needs_background": "light"
     },
     "output_type": "display_data"
    }
   ],
   "source": [
    "plt.plot(time2, ['sequencial','indexada','binaria','interpolação'], 'ro')\n",
    "plt.show"
   ]
  },
  {
   "cell_type": "markdown",
   "metadata": {},
   "source": [
    "## Test case 3"
   ]
  },
  {
   "cell_type": "code",
   "execution_count": 59,
   "metadata": {},
   "outputs": [
    {
     "data": {
      "text/plain": [
       "<function matplotlib.pyplot.show(*args, **kw)>"
      ]
     },
     "execution_count": 59,
     "metadata": {},
     "output_type": "execute_result"
    },
    {
     "data": {
      "image/png": "[encoded data removed]",
      "text/plain": [
       "<Figure size 432x288 with 1 Axes>"
      ]
     },
     "metadata": {
      "needs_background": "light"
     },
     "output_type": "display_data"
    }
   ],
   "source": [
    "plt.plot(time3, ['sequencial','indexada','binaria','interpolação'], 'ro')\n",
    "plt.show"
   ]
  },
  {
   "cell_type": "markdown",
   "metadata": {},
   "source": [
    "## Test case 4"
   ]
  },
  {
   "cell_type": "code",
   "execution_count": 60,
   "metadata": {},
   "outputs": [
    {
     "data": {
      "text/plain": [
       "<function matplotlib.pyplot.show(*args, **kw)>"
      ]
     },
     "execution_count": 60,
     "metadata": {},
     "output_type": "execute_result"
    },
    {
     "data": {
      "image/png": "[encoded data removed]",
      "text/plain": [
       "<Figure size 432x288 with 1 Axes>"
      ]
     },
     "metadata": {
      "needs_background": "light"
     },
     "output_type": "display_data"
    }
   ],
   "source": [
    "plt.plot(time4, ['sequencial','indexada','binaria','interpolação'], 'ro')\n",
    "plt.show"
   ]
  },
  {
   "cell_type": "code",
   "execution_count": null,
   "metadata": {},
   "outputs": [],
   "source": []
  }
 ],
 "metadata": {
  "kernelspec": {
   "display_name": "Python 3",
   "language": "python",
   "name": "python3"
  },
  "language_info": {
   "codemirror_mode": {
    "name": "ipython",
    "version": 3
   },
   "file_extension": ".py",
   "mimetype": "text/x-python",
   "name": "python",
   "nbconvert_exporter": "python",
   "pygments_lexer": "ipython3",
   "version": "3.7.1"
  }
 },
 "nbformat": 4,
 "nbformat_minor": 2
}
