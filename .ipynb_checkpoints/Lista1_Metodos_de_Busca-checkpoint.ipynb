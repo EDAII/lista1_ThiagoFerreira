{
 "cells": [
  {
   "cell_type": "markdown",
   "metadata": {},
   "source": [
    "# Caso de teste 1: Busca em array ordenado com 1000000 valores"
   ]
  },
  {
   "cell_type": "code",
   "execution_count": 47,
   "metadata": {},
   "outputs": [
    {
     "name": "stdout",
     "output_type": "stream",
     "text": [
      "Caso de teste 1\n",
      "Tamanho do array: 1000000\n"
     ]
    }
   ],
   "source": [
    "import numpy as np\n",
    "import time\n",
    "\n",
    "caso1 = np.arange(1, 1000001, dtype = int)\n",
    "#np.random.shuffle(caso1)\n",
    "print(\"Caso de teste 1\")\n",
    "print(\"Tamanho do array: \" + str(caso1.size))"
   ]
  },
  {
   "cell_type": "code",
   "execution_count": 51,
   "metadata": {},
   "outputs": [
    {
     "name": "stdout",
     "output_type": "stream",
     "text": [
      "Caso de teste: 1\n",
      "Procurando valor: 800002\n",
      "O valor 800002 foi encotrado!\n",
      "O tempo de execucao foi de: 0.6557 segundos\n"
     ]
    }
   ],
   "source": [
    "#BUSCA SEQUENCIAL COMUM - THIAGO\n",
    "\n",
    "def linearSearch(casoDeTeste, valores, valorDeProcura):\n",
    "    \n",
    "    print(\"Caso de teste: \" +str(casoDeTeste))\n",
    "    print(\"Procurando valor: \" +str(valorDeProcura))\n",
    "    \n",
    "    valorEncontrado = False\n",
    "    \n",
    "    contador = 0\n",
    "    for valor in valores:\n",
    "        contador += 1\n",
    "        if(valor == valorDeProcura):\n",
    "            print(\"O valor \" + str(valor) + \" foi encotrado!\")\n",
    "            valorEncontrado = True\n",
    "        \n",
    "    if(valorEncontrado == False):\n",
    "        print(\"O valor \" + str(valorDeProcura) + \" nao foi encotrado!\")\n",
    "\n",
    "inicioLinearSearch = time.time()\n",
    "linearSearch(1, caso1, 800002)\n",
    "fimLinearSearch = time.time()\n",
    "\n",
    "tempoDeExecucao = round(fimLinearSearch - inicioLinearSearch,4)\n",
    "print(\"O tempo de execucao foi de: \" + str(tempoDeExecucao) + \" segundos\")\n",
    "\n",
    "\n"
   ]
  },
  {
   "cell_type": "code",
   "execution_count": 115,
   "metadata": {},
   "outputs": [
    {
     "name": "stdout",
     "output_type": "stream",
     "text": [
      "Caso de teste: 1\n",
      "Procurando valor: 900002\n",
      "100000\n",
      "200000\n",
      "300000\n",
      "400000\n",
      "500000\n",
      "600000\n",
      "700000\n",
      "800000\n",
      "900000\n",
      "900000\n",
      "O valor foi encontrado!\n",
      "Index: 900000\n",
      "Valor na posicao: 900002\n",
      "O tempo de execucao foi de: 0.045 segundos\n"
     ]
    }
   ],
   "source": [
    "#BUSCA SEQUENCIAL INDEXADA - LUCAS\n",
    "\n",
    "\n",
    "#criando tabela de indices\n",
    "def createIndexTable(valores, rangeDeValores):\n",
    "    indexTable = []\n",
    "\n",
    "    #formando a tabela de index de acordo com a quantidade de valores do array e o intervalo definido\n",
    "    for posicao in range(rangeDeValores, valores.size, rangeDeValores):\n",
    "        indexTable.append([posicao,valores[posicao]])\n",
    "    return indexTable\n",
    "\n",
    "\n",
    "#localizando pelo indice\n",
    "def indexSearch(indices, valorDeProcura):\n",
    "    \n",
    "    auxiliarIndex = 0\n",
    "\n",
    "    for indice in indices:\n",
    "        print(indice[0])\n",
    "        #comparando valor de procura com o valor da chave\n",
    "        if valorDeProcura >= indice[1]:\n",
    "            #recebendo posicao do indice mais proximo ao valor desejado\n",
    "            auxiliarIndex = indice[0]\n",
    "    \n",
    "    return auxiliarIndex\n",
    "        \n",
    "        \n",
    "\n",
    "#funcao de busca\n",
    "def indexedLinearSearch(casoDeTeste, indices, valores, valorDeProcura):\n",
    "    \n",
    "    print(\"Caso de teste: \" +str(casoDeTeste))\n",
    "    print(\"Procurando valor: \" +str(valorDeProcura))\n",
    "    \n",
    "    \n",
    "    index = indexSearch(indices, valorDeProcura)\n",
    "    print(index)\n",
    "    \n",
    "    valorEncontrado = False\n",
    "    \n",
    "    \n",
    "    for posicao in range(index,valores.size):\n",
    "        \n",
    "        if valores[posicao] == valorDeProcura:\n",
    "            print(\"O valor foi encontrado!\")\n",
    "            print(\"Index: \" + str(index))\n",
    "            print(\"Valor na posicao: \" + str(valores[posicao]))\n",
    "            valorEncontrado = True\n",
    "\n",
    "    if(valorEncontrado == False):\n",
    "        print(\"O valor foi encontrado!\")\n",
    "\n",
    "#gerando tabela de indices\n",
    "casoOrdenado = np.sort(caso1)\n",
    "indices = createIndexTable(casoOrdenado,100000)\n",
    "#print(indices)\n",
    "inicioIndexed = time.time()\n",
    "indexedLinearSearch(1,indices,casoOrdenado,900002)\n",
    "fimIndexed = time.time()\n",
    "\n",
    "tempoDeExecucao = round(fimIndexed - inicioIndexed,4)\n",
    "print(\"O tempo de execucao foi de: \" + str(tempoDeExecucao) + \" segundos\")"
   ]
  },
  {
   "cell_type": "code",
   "execution_count": 60,
   "metadata": {},
   "outputs": [],
   "source": [
    "#BUSCA SEQUENCIAL DUPLAMENTE INDEXADA - LUCAS"
   ]
  },
  {
   "cell_type": "code",
   "execution_count": 61,
   "metadata": {},
   "outputs": [],
   "source": [
    "#BUSCA BINÁRIA - THIAGO"
   ]
  },
  {
   "cell_type": "code",
   "execution_count": 62,
   "metadata": {},
   "outputs": [],
   "source": [
    "## BUSCA BINÁRIA POR INTERPOLAÇÃO - THIAGO"
   ]
  },
  {
   "cell_type": "code",
   "execution_count": 22,
   "metadata": {},
   "outputs": [],
   "source": [
    "#BUSCA EM ÁRVORES (AVL) - LUCAS"
   ]
  },
  {
   "cell_type": "code",
   "execution_count": 7,
   "metadata": {},
   "outputs": [],
   "source": [
    "#BUSCA MULTIDIRECIONAL - LUCAS"
   ]
  },
  {
   "cell_type": "code",
   "execution_count": null,
   "metadata": {},
   "outputs": [],
   "source": []
  }
 ],
 "metadata": {
  "kernelspec": {
   "display_name": "Python 3",
   "language": "python",
   "name": "python3"
  },
  "language_info": {
   "codemirror_mode": {
    "name": "ipython",
    "version": 3
   },
   "file_extension": ".py",
   "mimetype": "text/x-python",
   "name": "python",
   "nbconvert_exporter": "python",
   "pygments_lexer": "ipython3",
   "version": "3.6.7"
  }
 },
 "nbformat": 4,
 "nbformat_minor": 2
}
